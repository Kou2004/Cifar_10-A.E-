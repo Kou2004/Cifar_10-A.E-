{
  "nbformat": 4,
  "nbformat_minor": 0,
  "metadata": {
    "colab": {
      "provenance": [],
      "gpuType": "T4"
    },
    "kernelspec": {
      "name": "python3",
      "display_name": "Python 3"
    },
    "language_info": {
      "name": "python"
    },
    "accelerator": "GPU"
  },
  "cells": [
    {
      "cell_type": "code",
      "execution_count": null,
      "metadata": {
        "id": "XbFtVL5LHBSb"
      },
      "outputs": [],
      "source": [
        "from keras.datasets import cifar10\n",
        "from keras.layers import Input, Dense,Conv2D,MaxPooling2D,UpSampling2D,BatchNormalization\n",
        "from keras.models import Model,Sequential\n",
        "import numpy as np\n",
        "import pandas as pd\n",
        "import matplotlib.pyplot as plt\n",
        "%matplotlib inline"
      ]
    },
    {
      "cell_type": "code",
      "source": [
        "(X_train, _), (X_test, _) = cifar10.load_data()\n",
        "X_train = X_train.astype('float32')/255\n",
        "X_test = X_test.astype('float32')/255"
      ],
      "metadata": {
        "colab": {
          "base_uri": "https://localhost:8080/"
        },
        "id": "Pwq5OxYlHj4w",
        "outputId": "7ea0b476-6278-4265-c409-c3c892953e66"
      },
      "execution_count": null,
      "outputs": [
        {
          "output_type": "stream",
          "name": "stdout",
          "text": [
            "Downloading data from https://www.cs.toronto.edu/~kriz/cifar-10-python.tar.gz\n",
            "170498071/170498071 [==============================] - 14s 0us/step\n"
          ]
        }
      ]
    },
    {
      "cell_type": "code",
      "source": [
        "print(X_train.shape)\n",
        "print(X_test.shape)"
      ],
      "metadata": {
        "colab": {
          "base_uri": "https://localhost:8080/"
        },
        "id": "6dsqT_T8Hrx7",
        "outputId": "368146a8-8d52-438a-eb53-1a3bd20c79e3"
      },
      "execution_count": null,
      "outputs": [
        {
          "output_type": "stream",
          "name": "stdout",
          "text": [
            "(50000, 32, 32, 3)\n",
            "(10000, 32, 32, 3)\n"
          ]
        }
      ]
    },
    {
      "cell_type": "code",
      "source": [
        "model = Sequential()\n",
        "#encoder\n",
        "model.add(Conv2D(32, kernel_size=3, strides=1, padding='same', activation='relu', input_shape=(32, 32, 3)))\n",
        "model.add(BatchNormalization())     # 32x32x32\n",
        "model.add(Conv2D(32, kernel_size=3, strides=2, padding='same', activation='relu'))      # 16x16x32\n",
        "model.add(Conv2D(32, kernel_size=3, strides=1, padding='same', activation='relu'))      # 16x16x32\n",
        "model.add(BatchNormalization())     # 16x16x32\n",
        "#decoder\n",
        "model.add(UpSampling2D())\n",
        "model.add(Conv2D(32, kernel_size=3, strides=1, padding='same', activation='relu'))      # 32x32x32\n",
        "model.add(BatchNormalization())\n",
        "model.add(Conv2D(3,  kernel_size=1, strides=1, padding='same', activation='sigmoid'))   # 32x32x3\n",
        "\n",
        "model.compile(optimizer='adam', metrics=['accuracy'], loss='mean_squared_error')\n",
        "model.summary()"
      ],
      "metadata": {
        "colab": {
          "base_uri": "https://localhost:8080/"
        },
        "id": "K1C_I11DH2AX",
        "outputId": "a526dc16-75c6-4c16-bad5-8d5f8928f2c8"
      },
      "execution_count": null,
      "outputs": [
        {
          "output_type": "stream",
          "name": "stdout",
          "text": [
            "Model: \"sequential\"\n",
            "_________________________________________________________________\n",
            " Layer (type)                Output Shape              Param #   \n",
            "=================================================================\n",
            " conv2d (Conv2D)             (None, 32, 32, 32)        896       \n",
            "                                                                 \n",
            " batch_normalization (Batch  (None, 32, 32, 32)        128       \n",
            " Normalization)                                                  \n",
            "                                                                 \n",
            " conv2d_1 (Conv2D)           (None, 16, 16, 32)        9248      \n",
            "                                                                 \n",
            " conv2d_2 (Conv2D)           (None, 16, 16, 32)        9248      \n",
            "                                                                 \n",
            " batch_normalization_1 (Bat  (None, 16, 16, 32)        128       \n",
            " chNormalization)                                                \n",
            "                                                                 \n",
            " up_sampling2d (UpSampling2  (None, 32, 32, 32)        0         \n",
            " D)                                                              \n",
            "                                                                 \n",
            " conv2d_3 (Conv2D)           (None, 32, 32, 32)        9248      \n",
            "                                                                 \n",
            " batch_normalization_2 (Bat  (None, 32, 32, 32)        128       \n",
            " chNormalization)                                                \n",
            "                                                                 \n",
            " conv2d_4 (Conv2D)           (None, 32, 32, 3)         99        \n",
            "                                                                 \n",
            "=================================================================\n",
            "Total params: 29123 (113.76 KB)\n",
            "Trainable params: 28931 (113.01 KB)\n",
            "Non-trainable params: 192 (768.00 Byte)\n",
            "_________________________________________________________________\n"
          ]
        }
      ]
    },
    {
      "cell_type": "code",
      "source": [
        "model.fit(X_train, X_train,\n",
        "                epochs=45,\n",
        "                batch_size=256,\n",
        "                shuffle=True,\n",
        "                validation_data=(X_test, X_test))"
      ],
      "metadata": {
        "colab": {
          "base_uri": "https://localhost:8080/"
        },
        "id": "8mXT-wiSKW9o",
        "outputId": "cd0e925e-a03a-4cd0-c747-6c90c832a691"
      },
      "execution_count": null,
      "outputs": [
        {
          "output_type": "stream",
          "name": "stdout",
          "text": [
            "Epoch 1/45\n",
            "196/196 [==============================] - 5s 27ms/step - loss: 2.7893e-04 - accuracy: 0.8952 - val_loss: 3.5857e-04 - val_accuracy: 0.8828\n",
            "Epoch 2/45\n",
            "196/196 [==============================] - 5s 25ms/step - loss: 2.3637e-04 - accuracy: 0.8988 - val_loss: 3.4867e-04 - val_accuracy: 0.8936\n",
            "Epoch 3/45\n",
            "196/196 [==============================] - 5s 25ms/step - loss: 2.2987e-04 - accuracy: 0.9009 - val_loss: 1.9632e-04 - val_accuracy: 0.8593\n",
            "Epoch 4/45\n",
            "196/196 [==============================] - 5s 24ms/step - loss: 2.3115e-04 - accuracy: 0.8995 - val_loss: 1.6099e-04 - val_accuracy: 0.9171\n",
            "Epoch 5/45\n",
            "196/196 [==============================] - 5s 24ms/step - loss: 2.2324e-04 - accuracy: 0.8986 - val_loss: 1.6258e-04 - val_accuracy: 0.9221\n",
            "Epoch 6/45\n",
            "196/196 [==============================] - 5s 25ms/step - loss: 2.2520e-04 - accuracy: 0.8989 - val_loss: 4.2774e-04 - val_accuracy: 0.8541\n",
            "Epoch 7/45\n",
            "196/196 [==============================] - 5s 24ms/step - loss: 2.4141e-04 - accuracy: 0.8989 - val_loss: 2.5398e-04 - val_accuracy: 0.9029\n",
            "Epoch 8/45\n",
            "196/196 [==============================] - 5s 24ms/step - loss: 2.2557e-04 - accuracy: 0.9002 - val_loss: 2.5734e-04 - val_accuracy: 0.8976\n",
            "Epoch 9/45\n",
            "196/196 [==============================] - 5s 24ms/step - loss: 2.4644e-04 - accuracy: 0.8982 - val_loss: 0.0011 - val_accuracy: 0.8219\n",
            "Epoch 10/45\n",
            "196/196 [==============================] - 5s 23ms/step - loss: 2.1189e-04 - accuracy: 0.8997 - val_loss: 1.8871e-04 - val_accuracy: 0.8975\n",
            "Epoch 11/45\n",
            "196/196 [==============================] - 5s 26ms/step - loss: 2.3739e-04 - accuracy: 0.8997 - val_loss: 2.6787e-04 - val_accuracy: 0.8323\n",
            "Epoch 12/45\n",
            "196/196 [==============================] - 5s 24ms/step - loss: 2.0946e-04 - accuracy: 0.9023 - val_loss: 1.7624e-04 - val_accuracy: 0.9252\n",
            "Epoch 13/45\n",
            "196/196 [==============================] - 5s 23ms/step - loss: 2.7639e-04 - accuracy: 0.8933 - val_loss: 4.3874e-04 - val_accuracy: 0.8904\n",
            "Epoch 14/45\n",
            "196/196 [==============================] - 5s 24ms/step - loss: 2.3219e-04 - accuracy: 0.8978 - val_loss: 2.2645e-04 - val_accuracy: 0.8502\n",
            "Epoch 15/45\n",
            "196/196 [==============================] - 5s 24ms/step - loss: 2.2051e-04 - accuracy: 0.8996 - val_loss: 4.4461e-04 - val_accuracy: 0.7621\n",
            "Epoch 16/45\n",
            "196/196 [==============================] - 5s 23ms/step - loss: 2.1554e-04 - accuracy: 0.9000 - val_loss: 2.0447e-04 - val_accuracy: 0.8661\n",
            "Epoch 17/45\n",
            "196/196 [==============================] - 5s 26ms/step - loss: 2.1912e-04 - accuracy: 0.8992 - val_loss: 2.3099e-04 - val_accuracy: 0.8972\n",
            "Epoch 18/45\n",
            "196/196 [==============================] - 5s 24ms/step - loss: 2.1612e-04 - accuracy: 0.9018 - val_loss: 1.7352e-04 - val_accuracy: 0.8532\n",
            "Epoch 19/45\n",
            "196/196 [==============================] - 5s 23ms/step - loss: 2.0574e-04 - accuracy: 0.9007 - val_loss: 4.9998e-04 - val_accuracy: 0.8271\n",
            "Epoch 20/45\n",
            "196/196 [==============================] - 5s 26ms/step - loss: 1.9967e-04 - accuracy: 0.9010 - val_loss: 4.7132e-04 - val_accuracy: 0.8785\n",
            "Epoch 21/45\n",
            "196/196 [==============================] - 5s 24ms/step - loss: 2.1135e-04 - accuracy: 0.9002 - val_loss: 1.4706e-04 - val_accuracy: 0.9095\n",
            "Epoch 22/45\n",
            "196/196 [==============================] - 5s 23ms/step - loss: 2.0658e-04 - accuracy: 0.9022 - val_loss: 5.7391e-04 - val_accuracy: 0.8525\n",
            "Epoch 23/45\n",
            "196/196 [==============================] - 5s 27ms/step - loss: 1.9330e-04 - accuracy: 0.9019 - val_loss: 2.3929e-04 - val_accuracy: 0.8512\n",
            "Epoch 24/45\n",
            "196/196 [==============================] - 5s 23ms/step - loss: 1.9556e-04 - accuracy: 0.9021 - val_loss: 2.4416e-04 - val_accuracy: 0.8976\n",
            "Epoch 25/45\n",
            "196/196 [==============================] - 5s 23ms/step - loss: 1.8608e-04 - accuracy: 0.9036 - val_loss: 2.6638e-04 - val_accuracy: 0.8595\n",
            "Epoch 26/45\n",
            "196/196 [==============================] - 5s 25ms/step - loss: 1.8372e-04 - accuracy: 0.9033 - val_loss: 2.0416e-04 - val_accuracy: 0.9136\n",
            "Epoch 27/45\n",
            "196/196 [==============================] - 5s 23ms/step - loss: 1.9839e-04 - accuracy: 0.9016 - val_loss: 1.4290e-04 - val_accuracy: 0.9131\n",
            "Epoch 28/45\n",
            "196/196 [==============================] - 5s 24ms/step - loss: 1.8952e-04 - accuracy: 0.9054 - val_loss: 3.3529e-04 - val_accuracy: 0.8626\n",
            "Epoch 29/45\n",
            "196/196 [==============================] - 5s 26ms/step - loss: 1.8558e-04 - accuracy: 0.9054 - val_loss: 1.9522e-04 - val_accuracy: 0.9045\n",
            "Epoch 30/45\n",
            "196/196 [==============================] - 5s 23ms/step - loss: 1.9048e-04 - accuracy: 0.9040 - val_loss: 6.9490e-04 - val_accuracy: 0.8433\n",
            "Epoch 31/45\n",
            "196/196 [==============================] - 5s 23ms/step - loss: 1.8802e-04 - accuracy: 0.9019 - val_loss: 2.0316e-04 - val_accuracy: 0.8871\n",
            "Epoch 32/45\n",
            "196/196 [==============================] - 5s 25ms/step - loss: 1.9796e-04 - accuracy: 0.9016 - val_loss: 2.1056e-04 - val_accuracy: 0.8923\n",
            "Epoch 33/45\n",
            "196/196 [==============================] - 5s 24ms/step - loss: 1.7983e-04 - accuracy: 0.9044 - val_loss: 1.8016e-04 - val_accuracy: 0.9220\n",
            "Epoch 34/45\n",
            "196/196 [==============================] - 5s 24ms/step - loss: 1.7110e-04 - accuracy: 0.9067 - val_loss: 1.3613e-04 - val_accuracy: 0.9175\n",
            "Epoch 35/45\n",
            "196/196 [==============================] - 5s 26ms/step - loss: 1.6876e-04 - accuracy: 0.9066 - val_loss: 2.9012e-04 - val_accuracy: 0.7687\n",
            "Epoch 36/45\n",
            "196/196 [==============================] - 5s 25ms/step - loss: 1.6319e-04 - accuracy: 0.9065 - val_loss: 2.9662e-04 - val_accuracy: 0.8653\n",
            "Epoch 37/45\n",
            "196/196 [==============================] - 5s 25ms/step - loss: 1.6921e-04 - accuracy: 0.9049 - val_loss: 2.9291e-04 - val_accuracy: 0.8830\n",
            "Epoch 38/45\n",
            "196/196 [==============================] - 5s 25ms/step - loss: 1.7319e-04 - accuracy: 0.9041 - val_loss: 1.6815e-04 - val_accuracy: 0.9030\n",
            "Epoch 39/45\n",
            "196/196 [==============================] - 5s 23ms/step - loss: 1.7681e-04 - accuracy: 0.9040 - val_loss: 1.8210e-04 - val_accuracy: 0.8629\n",
            "Epoch 40/45\n",
            "196/196 [==============================] - 5s 24ms/step - loss: 1.6439e-04 - accuracy: 0.9078 - val_loss: 1.4668e-04 - val_accuracy: 0.9079\n",
            "Epoch 41/45\n",
            "196/196 [==============================] - 5s 25ms/step - loss: 1.6158e-04 - accuracy: 0.9081 - val_loss: 2.2633e-04 - val_accuracy: 0.9049\n",
            "Epoch 42/45\n",
            "196/196 [==============================] - 5s 24ms/step - loss: 1.6607e-04 - accuracy: 0.9079 - val_loss: 1.5453e-04 - val_accuracy: 0.8630\n",
            "Epoch 43/45\n",
            "196/196 [==============================] - 5s 24ms/step - loss: 1.5211e-04 - accuracy: 0.9108 - val_loss: 1.9888e-04 - val_accuracy: 0.8717\n",
            "Epoch 44/45\n",
            "196/196 [==============================] - 5s 25ms/step - loss: 1.5910e-04 - accuracy: 0.9062 - val_loss: 1.5048e-04 - val_accuracy: 0.9078\n",
            "Epoch 45/45\n",
            "196/196 [==============================] - 5s 23ms/step - loss: 1.5476e-04 - accuracy: 0.9086 - val_loss: 1.7403e-04 - val_accuracy: 0.9032\n"
          ]
        },
        {
          "output_type": "execute_result",
          "data": {
            "text/plain": [
              "<keras.src.callbacks.History at 0x7c052c294490>"
            ]
          },
          "metadata": {},
          "execution_count": 7
        }
      ]
    }
  ]
}